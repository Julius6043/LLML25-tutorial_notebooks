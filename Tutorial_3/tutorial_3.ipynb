{
 "cells": [
  {
   "cell_type": "markdown",
   "metadata": {},
   "source": [
    "#### Tutorial 3:  Regularization Approaches\n",
    "\n",
    "In this notebook, we will investigate several regularization techniques namely Elastic Weight Consolidation and Knowledge distilation. If you haven't already observed it, models usually suffer from the problem of catastrophic forgetting when trained on a sequence of tasks. That is, it forgets the past information while learning the new information. EWC and Knowledge Distillation are two such approaches that helps us maintain the stability and plasticity of the model. \n",
    "\n",
    "Reference paper:  [EWC](https://arxiv.org/abs/2502.11756) , [Knowledge Distillation](https://amit-s.medium.com/everything-you-need-to-know-about-knowledge-distillation-aka-teacher-student-model-d6ee10fe7276)\n"
   ]
  },
  {
   "cell_type": "code",
   "execution_count": 1,
   "metadata": {},
   "outputs": [
    {
     "name": "stdout",
     "output_type": "stream",
     "text": [
      "Name: torch\n",
      "Version: 2.7.0\n",
      "Summary: Tensors and Dynamic neural networks in Python with strong GPU acceleration\n",
      "Home-page: https://pytorch.org/\n",
      "Author: PyTorch Team\n",
      "Author-email: packages@pytorch.org\n",
      "License: BSD-3-Clause\n",
      "Location: c:\\github repositorys\\llml25-tutorial_notebooks\\.venv\\lib\\site-packages\n",
      "Requires: filelock, fsspec, jinja2, networkx, sympy, typing-extensions\n",
      "Required-by: torchtext, torchvision\n",
      "---\n",
      "Name: torchvision\n",
      "Version: 0.22.0\n",
      "Summary: image and video datasets and models for torch deep learning\n",
      "Home-page: https://github.com/pytorch/vision\n",
      "Author: PyTorch Core Team\n",
      "Author-email: soumith@pytorch.org\n",
      "License: BSD\n",
      "Location: c:\\github repositorys\\llml25-tutorial_notebooks\\.venv\\lib\\site-packages\n",
      "Requires: numpy, pillow, torch\n",
      "Required-by: \n"
     ]
    }
   ],
   "source": [
    "#!pip install torchvision==0.18.0 \n",
    "!pip show torch torchvision\n",
    "import torch \n",
    "from torchvision import datasets\n",
    "from torchvision import transforms\n",
    "from tqdm import tqdm\n",
    "from torchvision.models import resnet18\n",
    "import random\n",
    "import matplotlib.pyplot as plt\n"
   ]
  },
  {
   "cell_type": "markdown",
   "metadata": {},
   "source": [
    "#### Loading the dataset\n",
    "\n",
    "In this notebook, we will be using Mnist and the permuted version of Mnist dataset. \n",
    "\n",
    "-- TO-DO --\n",
    "- First, download the Mnist dataset from torchvision and define the dataset object. "
   ]
  },
  {
   "cell_type": "code",
   "execution_count": 2,
   "metadata": {},
   "outputs": [
    {
     "name": "stderr",
     "output_type": "stream",
     "text": [
      "100%|██████████| 9.91M/9.91M [00:04<00:00, 2.06MB/s]\n",
      "100%|██████████| 28.9k/28.9k [00:00<00:00, 291kB/s]\n",
      "100%|██████████| 1.65M/1.65M [00:01<00:00, 1.41MB/s]\n",
      "100%|██████████| 4.54k/4.54k [00:00<00:00, 2.22MB/s]"
     ]
    },
    {
     "name": "stdout",
     "output_type": "stream",
     "text": [
      "Trainset size: 60000, Testset size: 10000\n"
     ]
    },
    {
     "name": "stderr",
     "output_type": "stream",
     "text": [
      "\n"
     ]
    }
   ],
   "source": [
    "# Notwendige Imports (einige sind bereits in anderen Zellen vorhanden, daher hier nur make_grid und np)\n",
    "from torchvision.utils import make_grid\n",
    "import numpy as np\n",
    "\n",
    "# Mittelwert und Standardabweichung für eventuelle Normalisierung (hier nicht zwingend benötigt)\n",
    "mean = torch.tensor([0.4589, 0.4384, 0.4011])\n",
    "std = torch.tensor([0.2793, 0.2724, 0.2835])\n",
    "\n",
    "# MNIST Datensätze laden\n",
    "mnist_trainset = datasets.MNIST(\n",
    "    root='/app/src/Mnist', train=True, download=True, transform=transforms.ToTensor()\n",
    ")\n",
    "mnist_testset = datasets.MNIST(\n",
    "    root='/app/src/Mnist', train=False, download=True, transform=transforms.ToTensor()\n",
    ")\n",
    "\n",
    "# Konfigurationsdictionary für spätere Nutzung\n",
    "config = {'size': 28, 'channels': 1, 'classes': 10}\n",
    "\n",
    "# Datensatzgrößen ausgeben\n",
    "print(f\"Trainset size: {len(mnist_trainset)}, Testset size: {len(mnist_testset)}\")\n"
   ]
  },
  {
   "cell_type": "markdown",
   "metadata": {},
   "source": [
    "#### Helper function: Visualization\n",
    "\n",
    "- Provided the visualization function to plot instances belonging to different class "
   ]
  },
  {
   "cell_type": "code",
   "execution_count": 3,
   "metadata": {},
   "outputs": [],
   "source": [
    "#@title Visualization functions\n",
    "def multi_context_barplot(axis, accs, title=None):\n",
    "    '''Generate barplot using the values in [accs].'''\n",
    "    contexts = len(accs)\n",
    "    axis.bar(range(contexts), accs, color='k')\n",
    "    axis.set_ylabel('Testing Accuracy (%)')\n",
    "    axis.set_xticks(range(contexts), [f'Context {i+1}' for i in range(contexts)])\n",
    "    if title is not None:\n",
    "        axis.set_title(title)\n",
    "\n",
    "def plot_examples(axis, dataset, context_id=None):\n",
    "    '''Plot 25 examples from [dataset].'''\n",
    "    data_loader = torch.utils.data.DataLoader(dataset, batch_size=25, shuffle=True)\n",
    "    image_tensor, _ = next(iter(data_loader))\n",
    "    image_grid = make_grid(image_tensor, nrow=5, pad_value=1) # pad_value=0 would give black borders\n",
    "    axis.imshow(np.transpose(image_grid.numpy(), (1,2,0)))\n",
    "    if context_id is not None:\n",
    "        axis.set_title(\"Context {}\".format(context_id+1))\n",
    "    axis.axis('off')"
   ]
  },
  {
   "cell_type": "markdown",
   "metadata": {},
   "source": [
    "#### Permuted Mnist \n",
    "\n",
    "1. we need to define a function to permute the pixels of a image. \n",
    "2. We will basically use the original Mnist dataset samples and pass the function over each samples to create our Mnist dataset. "
   ]
  },
  {
   "cell_type": "code",
   "execution_count": 5,
   "metadata": {},
   "outputs": [],
   "source": [
    "# Function to apply a given permutation the pixels of an image.\n",
    "def permutate_image_pixels(image, permutation):\n",
    "    '''Permutate the pixels of [image] according to [permutation].'''\n",
    "    if permutation is None:\n",
    "        return image\n",
    "    # image: torch.Tensor of shape (C, H, W)\n",
    "    c, h, w = image.shape\n",
    "    flat = image.view(-1)\n",
    "    permuted = flat[permutation]\n",
    "    return permuted.view(c, h, w)\n",
    "    \n",
    "# Class to create a dataset with images that have all been transformed in the same way.\n",
    "class TransformedDataset(torch.utils.data.Dataset):\n",
    "    '''To modify an existing dataset with a transform.\n",
    "    Useful for creating different permutations of MNIST without loading the data multiple times.'''\n",
    "\n",
    "    def __init__(self, original_dataset, transform=None, target_transform=None):\n",
    "        super().__init__()\n",
    "        self.dataset = original_dataset\n",
    "        self.transform = transform\n",
    "        self.target_transform = target_transform\n",
    "\n",
    "    def __len__(self):\n",
    "        return len(self.dataset)\n",
    "\n",
    "    def __getitem__(self, index):\n",
    "        (input, target) = self.dataset[index]\n",
    "        if self.transform:\n",
    "            input = self.transform(input)\n",
    "        if self.target_transform:\n",
    "            target = self.target_transform(target)\n",
    "        return (input, target)"
   ]
  },
  {
   "cell_type": "markdown",
   "metadata": {},
   "source": [
    "#### Define the sequential tasks\n",
    "\n",
    "-- TO-DO --\n",
    "1. We will use only two tasks in this notebook,  denoted as contexts. \n",
    "2. We will use the \"full\" Mnist datasset as our first task and the permuted Mnist dataset as our second task. "
   ]
  },
  {
   "cell_type": "code",
   "execution_count": 6,
   "metadata": {},
   "outputs": [
    {
     "data": {
      "image/png": "[encoded data removed]",
      "text/plain": [
       "<Figure size 600x400 with 2 Axes>"
      ]
     },
     "metadata": {},
     "output_type": "display_data"
    }
   ],
   "source": [
    "# Wir definieren zwei Kontexte: \n",
    "# Kontext 0 = Original MNIST, Kontext 1 = permutiertes MNIST\n",
    "import numpy as np\n",
    "\n",
    "contexts = 2  # Anzahl der Aufgaben/Kontexte\n",
    "\n",
    "# Erzeuge für jeden Kontext eine Permutation (Kontext 0: keine Permutation, Kontext 1: zufällige Permutation)\n",
    "permutations = [None] + [np.random.permutation(config['size']**2) for _ in range(contexts-1)]\n",
    "\n",
    "# Listen für Trainings- und Testdatensätze der jeweiligen Kontexte\n",
    "train_datasets = []\n",
    "test_datasets = []\n",
    "\n",
    "# Für jeden Kontext: Erzeuge einen Datensatz mit der jeweiligen Permutation\n",
    "for context_id, perm in enumerate(permutations):\n",
    "    # Trainingsdatensatz mit Permutation\n",
    "    train_datasets.append(\n",
    "        TransformedDataset(\n",
    "            mnist_trainset, \n",
    "            transform=transforms.Lambda(lambda x, p=perm: permutate_image_pixels(x, p))\n",
    "        )\n",
    "    )\n",
    "    # Testdatensatz mit Permutation\n",
    "    test_datasets.append(\n",
    "        TransformedDataset(\n",
    "            mnist_testset, \n",
    "            transform=transforms.Lambda(lambda x, p=perm: permutate_image_pixels(x, p))\n",
    "        )\n",
    "    )\n",
    "\n",
    "# Visualisierung: Zeige für jeden Kontext Beispielbilder an\n",
    "figure, axis = plt.subplots(1, contexts, figsize=(3*contexts, 4))\n",
    "for context_id in range(contexts):\n",
    "    plot_examples(axis[context_id], train_datasets[context_id], context_id=context_id)\n",
    "plt.show()\n"
   ]
  },
  {
   "cell_type": "markdown",
   "metadata": {},
   "source": [
    "#### Model definition\n",
    "\n",
    "1. Define a simple MLP based network\n",
    "    - It may only consist of 2-3 linear layers in total with output node of 10; as we have 10 classes in Mnist \n",
    "    - As you already know the input shape of Mnist is (1, 28, 28). So, we have to use nn.FLatten() as your first layer if you are using a purely MLP architecture. \n",
    "    "
   ]
  },
  {
   "cell_type": "code",
   "execution_count": 7,
   "metadata": {},
   "outputs": [],
   "source": [
    "#model = models.alexnet(pretrained=False, num_classes=10)\n",
    "import torch.nn as nn\n",
    "import torch.nn.functional as F\n",
    "import numpy as np\n",
    "\n",
    "class Net(nn.Module):\n",
    "    def __init__(self):\n",
    "        super().__init__()\n",
    "        # Die Eingabegröße ist 1*28*28 = 784 (MNIST-Bilder)\n",
    "        self.flatten = nn.Flatten()\n",
    "        self.fc1 = nn.Linear(28*28, 256)  # Erste vollverbundene Schicht\n",
    "        self.fc2 = nn.Linear(256, 128)    # Zweite vollverbundene Schicht\n",
    "        self.fc3 = nn.Linear(128, 10)     # Ausgabeschicht (10 Klassen für MNIST)\n",
    "\n",
    "    def forward(self, x):\n",
    "        # Bild in Vektor umwandeln\n",
    "        x = self.flatten(x)\n",
    "        # Erste Schicht + Aktivierungsfunktion\n",
    "        x = F.relu(self.fc1(x))\n",
    "        # Zweite Schicht + Aktivierungsfunktion\n",
    "        x = F.relu(self.fc2(x))\n",
    "        # Ausgabeschicht (Logits für 10 Klassen)\n",
    "        x = self.fc3(x)\n",
    "        return x"
   ]
  },
  {
   "cell_type": "code",
   "execution_count": 12,
   "metadata": {},
   "outputs": [
    {
     "name": "stdout",
     "output_type": "stream",
     "text": [
      "--> this network has 235146 parameters (~235K)\n"
     ]
    }
   ],
   "source": [
    "# Print info regarding number of parameters\n",
    "device = torch.device('cuda' if torch.cuda.is_available() else 'cpu')\n",
    "model = Net()\n",
    "model.to(device)\n",
    "\n",
    "# Zähle die Gesamtanzahl der Parameter im Modell\n",
    "total_params = 0\n",
    "for param in model.parameters():\n",
    "      total_params += param.numel()  # numel() gibt die Anzahl der Elemente im Tensor zurück\n",
    "\n",
    "# Ausgabe der Gesamtanzahl der Parameter und gerundet in K (Tausender)\n",
    "print(\"--> this network has {} parameters (~{}K)\".format(total_params, round(total_params / 1000)))\n",
    "\n",
    "#model.calculate_fisher_info(train_datasets[0], fisher_labels='exact', fisher_n=100, allowed_classes=None)"
   ]
  },
  {
   "cell_type": "markdown",
   "metadata": {},
   "source": [
    "#### Initialize the Fischer information matrix \n",
    "\n",
    "1. It should be of the shape of the actual model parameters, (model.state_dict()). That means, the information matrix should have placeholders for each layer of the model. "
   ]
  },
  {
   "cell_type": "code",
   "execution_count": 11,
   "metadata": {},
   "outputs": [
    {
     "name": "stdout",
     "output_type": "stream",
     "text": [
      "fc1.weight: shape=torch.Size([256, 784]), dtype=torch.float32\n",
      "fc1.bias: shape=torch.Size([256]), dtype=torch.float32\n",
      "fc2.weight: shape=torch.Size([128, 256]), dtype=torch.float32\n",
      "fc2.bias: shape=torch.Size([128]), dtype=torch.float32\n",
      "fc3.weight: shape=torch.Size([10, 128]), dtype=torch.float32\n",
      "fc3.bias: shape=torch.Size([10]), dtype=torch.float32\n"
     ]
    }
   ],
   "source": [
    "def initialize_fisher_info(model):\n",
    "    \"\"\"\n",
    "    Initialisiert die Fisher-Informationsmatrix für das gegebene Modell.\n",
    "    Die Matrix hat für jeden Parameter im Modell einen Tensor gleicher Form, \n",
    "    der mit Nullen gefüllt ist. Dies dient als Platzhalter für spätere Berechnungen.\n",
    "    \"\"\"\n",
    "    # Dictionary, das für jeden Parameternamen einen Null-Tensor gleicher Form speichert\n",
    "    est_fisher_info = {}\n",
    "    for name, param in model.named_parameters():\n",
    "        # Erzeuge einen Tensor mit Nullen in der gleichen Form wie der Parameter\n",
    "        est_fisher_info[name] = torch.zeros_like(param)\n",
    "    return est_fisher_info\n",
    "\n",
    "# Testaufruf: Initialisiere die Fisher-Informationsmatrix für das aktuelle Modell\n",
    "fisher_info = initialize_fisher_info(model)\n",
    "\n",
    "# Ausgabe zur Kontrolle: Zeige die Namen und Formen der initialisierten Matrizen\n",
    "for name, tensor in fisher_info.items():\n",
    "    print(f\"{name}: shape={tensor.shape}, dtype={tensor.dtype}\")\n",
    "        \n"
   ]
  },
  {
   "cell_type": "markdown",
   "metadata": {},
   "source": [
    "#### Calculate the Fisher matrix \n",
    "\n",
    "We have four choices to create our Fischer information matrix \n",
    "- Exact: When we iterate over all the samples and calculate the fischer for each individual samples \n",
    "- Exact and Sample: We calculate the fischer for N samples \n",
    "- True: When we calculate the fischer based on the true class \n",
    "- Predicted: When we calculate the fischer based on the predicted class \n",
    "\n",
    "Store the values in the previously initialized network. "
   ]
  },
  {
   "cell_type": "code",
   "execution_count": 16,
   "metadata": {},
   "outputs": [
    {
     "name": "stderr",
     "output_type": "stream",
     "text": [
      "  0%|          | 0/60000 [00:00<?, ?it/s]"
     ]
    },
    {
     "name": "stderr",
     "output_type": "stream",
     "text": [
      "  0%|          | 100/60000 [00:00<01:15, 789.88it/s]\n"
     ]
    },
    {
     "name": "stdout",
     "output_type": "stream",
     "text": [
      "Fisher-Information (exact, 100 Samples):\n",
      "fc1.weight: shape=torch.Size([256, 784]), mean=0.000010\n",
      "fc1.bias: shape=torch.Size([256]), mean=0.000093\n",
      "fc2.weight: shape=torch.Size([128, 256]), mean=0.000018\n",
      "fc2.bias: shape=torch.Size([128]), mean=0.001129\n",
      "fc3.weight: shape=torch.Size([10, 128]), mean=0.000330\n",
      "fc3.bias: shape=torch.Size([10]), mean=0.089855\n"
     ]
    },
    {
     "name": "stderr",
     "output_type": "stream",
     "text": [
      "  0%|          | 50/60000 [00:00<01:36, 618.65it/s]"
     ]
    },
    {
     "name": "stdout",
     "output_type": "stream",
     "text": [
      "Fisher-Information (pred, 50 Samples):\n",
      "fc1.weight: shape=torch.Size([256, 784]), mean=0.000008\n",
      "fc1.bias: shape=torch.Size([256]), mean=0.000082\n",
      "fc2.weight: shape=torch.Size([128, 256]), mean=0.000017\n",
      "fc2.bias: shape=torch.Size([128]), mean=0.001107\n",
      "fc3.weight: shape=torch.Size([10, 128]), mean=0.000328\n",
      "fc3.bias: shape=torch.Size([10]), mean=0.088453\n"
     ]
    },
    {
     "name": "stderr",
     "output_type": "stream",
     "text": [
      "\n"
     ]
    }
   ],
   "source": [
    "def calculate_fisher_info(train_set, fisher_labels='exact', fisher_n=None, allowed_classes=None):\n",
    "    \"\"\"\n",
    "    Berechnet die Fisher-Informationsmatrix für das aktuelle Modell.\n",
    "    Args:\n",
    "        train_set: Datensatz, auf dem die Fisher-Information berechnet wird.\n",
    "        fisher_labels: 'exact', 'true' oder 'pred' (siehe Aufgabenstellung).\n",
    "        fisher_n: Anzahl der Stichproben (None = alle).\n",
    "        allowed_classes: falls gesetzt, werden nur diese Klassen berücksichtigt.\n",
    "    Returns:\n",
    "        est_fisher_info: Dictionary mit Fisher-Information pro Parameter.\n",
    "    \"\"\"\n",
    "    model.eval()\n",
    "    # Initialisiere Fisher-Informationsmatrix mit Nullen (wie in initialize_fisher_info)\n",
    "    est_fisher_info = {name: torch.zeros_like(param) for name, param in model.named_parameters()}\n",
    "    train_loader = torch.utils.data.DataLoader(train_set, batch_size=1, shuffle=False)\n",
    "    sample_count = 0\n",
    "\n",
    "    for index, (x, label) in tqdm(enumerate(train_loader), total=len(train_loader)):\n",
    "        if fisher_n is not None and sample_count >= fisher_n:\n",
    "            break\n",
    "        x, label = x.to(device), label.to(device)\n",
    "\n",
    "        # Optional: Nur bestimmte Klassen berücksichtigen\n",
    "        if allowed_classes is not None and label.item() not in allowed_classes:\n",
    "            continue\n",
    "\n",
    "        # Vorwärtsdurchlauf\n",
    "        output = model(x)\n",
    "\n",
    "        # Auswahl des Labels für die Berechnung der Log-Likelihood\n",
    "        if fisher_labels == 'exact':\n",
    "            # Nutze das tatsächliche Label aus dem Datensatz\n",
    "            target = label\n",
    "        elif fisher_labels == 'true':\n",
    "            # Nutze das tatsächliche Label (wie 'exact')\n",
    "            target = label\n",
    "        elif fisher_labels == 'pred':\n",
    "            # Nutze das vom Modell vorhergesagte Label\n",
    "            target = output.argmax(dim=1)\n",
    "        else:\n",
    "            raise ValueError(\"fisher_labels muss 'exact', 'true' oder 'pred' sein.\")\n",
    "\n",
    "        # Berechne die negative Log-Likelihood für das gewählte Label\n",
    "        nll = torch.nn.functional.cross_entropy(output, target)\n",
    "        # Setze Gradienten auf Null\n",
    "        model.zero_grad()\n",
    "        # Rückwärtsdurchlauf: Berechne Gradienten der NLL bzgl. der Modellparameter\n",
    "        nll.backward()\n",
    "\n",
    "        # Addiere das Quadrat der Gradienten zu est_fisher_info\n",
    "        for name, param in model.named_parameters():\n",
    "            if param.grad is not None:\n",
    "                est_fisher_info[name] += (param.grad.detach() ** 2)\n",
    "\n",
    "        sample_count += 1\n",
    "\n",
    "    # Mittelwert über alle betrachteten Stichproben\n",
    "    for name in est_fisher_info:\n",
    "        est_fisher_info[name] /= max(1, sample_count)\n",
    "\n",
    "    return est_fisher_info\n",
    "\n",
    "# --- Testaufrufe ---\n",
    "\n",
    "# Beispiel: Berechne Fisher-Information auf den ersten 100 Samples des ersten Kontextes (Original MNIST)\n",
    "fisher_info_exact = calculate_fisher_info(train_datasets[0], fisher_labels='exact', fisher_n=100)\n",
    "print(\"Fisher-Information (exact, 100 Samples):\")\n",
    "for name, tensor in fisher_info_exact.items():\n",
    "    print(f\"{name}: shape={tensor.shape}, mean={tensor.mean().item():.6f}\")\n",
    "\n",
    "# Beispiel: Berechne Fisher-Information auf den ersten 50 Samples des zweiten Kontextes (permutiertes MNIST) mit predicted labels\n",
    "fisher_info_pred = calculate_fisher_info(train_datasets[1], fisher_labels='pred', fisher_n=50)\n",
    "print(\"Fisher-Information (pred, 50 Samples):\")\n",
    "for name, tensor in fisher_info_pred.items():\n",
    "    print(f\"{name}: shape={tensor.shape}, mean={tensor.mean().item():.6f}\")\n"
   ]
  },
  {
   "cell_type": "markdown",
   "metadata": {},
   "source": [
    "### Define the EWC loss"
   ]
  },
  {
   "cell_type": "markdown",
   "metadata": {},
   "source": [
    "Implement the function to define the EWC loss. \n",
    "the EWC regularization term is given by:\n",
    "$$\n",
    "\\mathcal{L}^{(k)}_{\\text{regularization}_{\\text{EWC}}}\\left(\\boldsymbol{\\theta}\\right) = \\frac{1}{2} \\sum_{i=1}^{N_{\\text{params}}} \\tilde{F}_{ii}^{(k)} \\left(\\theta_i - \\hat{\\theta}_{i}^{(k)} \\right)^2\n",
    "$$\n",
    "whereby $\\hat{\\theta}_{i}^{(k)}$ is the $i^{\\text{th}}$ element of $\\hat{\\boldsymbol{\\theta}}^{\\left(k\\right)}$, which is the vector with parameter values at the end of training of task $k$, and $\\tilde{F}_{ii}^{(k)}$ is an approximation of $F_{ii}^{(k)}$, the $i^{\\text{th}}$ diagonal element of $\\boldsymbol{F}^{(k)}$, which is the Fisher Information matrix of task $k$ evaluated at $\\hat{\\boldsymbol{\\theta}}^{(k)}$."
   ]
  },
  {
   "cell_type": "code",
   "execution_count": 17,
   "metadata": {},
   "outputs": [
    {
     "name": "stdout",
     "output_type": "stream",
     "text": [
      "EWC-Loss (Task 1, fisher_info_exact): 0.000000\n",
      "EWC-Loss nach Parameteränderung: 0.000208\n"
     ]
    }
   ],
   "source": [
    "def ewc_loss(model, fisher_info, prev_params):\n",
    "    \"\"\"\n",
    "    Berechnet den EWC-Regularisierungsterm für das gegebene Modell.\n",
    "    Args:\n",
    "        model: Das aktuelle Modell (nn.Module).\n",
    "        fisher_info: Dictionary mit Fisher-Information pro Parameter (z.B. fisher_info_exact).\n",
    "        prev_params: Dictionary mit den gespeicherten Parametern nach Task 1 (state_dict nach erstem Training).\n",
    "    Returns:\n",
    "        ewc_reg: Skalarwert des EWC-Regularisierungsterms.\n",
    "    \"\"\"\n",
    "    ewc_reg = 0.0\n",
    "    # Iteriere über alle Parameter des Modells\n",
    "    for name, param in model.named_parameters():\n",
    "        # Nur Parameter berücksichtigen, die auch in fisher_info und prev_params enthalten sind\n",
    "        if name in fisher_info and name in prev_params:\n",
    "            # Fisher-Information (Diagonal) für diesen Parameter\n",
    "            fisher = fisher_info[name]\n",
    "            # Parameterwert nach Task 1 (als Tensor)\n",
    "            prev_param = prev_params[name]\n",
    "            # Quadratische Abweichung berechnen\n",
    "            param_diff = param - prev_param\n",
    "            # EWC-Term: 0.5 * Fisher * (theta - theta_old)^2, aufsummiert über alle Elemente\n",
    "            ewc_reg += (fisher * param_diff.pow(2)).sum()\n",
    "    # Faktor 0.5 wie in der Formel\n",
    "    return 0.5 * ewc_reg\n",
    "\n",
    "# --- Testaufruf ---\n",
    "\n",
    "# Beispiel: Speichere die aktuellen Parameter nach Task 1\n",
    "prev_params = {name: param.clone().detach() for name, param in model.named_parameters()}\n",
    "\n",
    "# Beispiel: Berechne EWC-Loss für das aktuelle Modell mit fisher_info_exact und prev_params\n",
    "ewc_value = ewc_loss(model, fisher_info_exact, prev_params)\n",
    "print(f\"EWC-Loss (Task 1, fisher_info_exact): {ewc_value.item():.6f}\")\n",
    "\n",
    "# Beispiel: Nach Veränderung eines Parameters sollte der Wert steigen\n",
    "with torch.no_grad():\n",
    "    for name, param in model.named_parameters():\n",
    "        param.add_(0.01)  # Kleine Änderung an allen Parametern\n",
    "\n",
    "ewc_value_changed = ewc_loss(model, fisher_info_exact, prev_params)\n",
    "print(f\"EWC-Loss nach Parameteränderung: {ewc_value_changed.item():.6f}\")"
   ]
  },
  {
   "cell_type": "markdown",
   "metadata": {},
   "source": [
    "#### Sequential training with EWC"
   ]
  },
  {
   "cell_type": "markdown",
   "metadata": {},
   "source": [
    "#### Define the training and the validation function"
   ]
  },
  {
   "cell_type": "code",
   "execution_count": 18,
   "metadata": {},
   "outputs": [],
   "source": [
    "import os\n",
    "\n",
    "#optimizer = optim.Adam(model.parameters(), lr=0.01)\n",
    "def train_model(model,  train_loader, optimizer, criterion, task, ewc= False, num_epochs=1):\n",
    "    model.train()\n",
    "    for epoch in range(num_epochs):\n",
    "        running_loss = 0.0\n",
    "        running_acc = 0.0\n",
    "        for i, (inputs, labels) in enumerate(train_loader):\n",
    "            inputs, labels = inputs.to('cuda'), labels.to('cuda')\n",
    "            optimizer.zero_grad()\n",
    "            outputs = model(inputs)\n",
    "            loss = criterion(outputs, labels)\n",
    "            if ewc == True:\n",
    "                loss += 100. * ewc_loss()\n",
    "            loss.backward()\n",
    "            optimizer.step()\n",
    "            running_loss += loss.item()\n",
    "            acc = (outputs.argmax(dim=1) == labels).float().mean()\n",
    "            running_acc += acc.item()\n",
    "            # Print statistics\n",
    "\n",
    "        #print(f\"Epoch [{epoch+1}/{num_epochs}], Loss: {running_loss/len(train_loader):.4f}\")\n",
    "        print(f\"Epoch [{epoch+1}/{num_epochs}], Accuracy: {running_acc/len(train_loader):.4f}\")\n",
    "\n",
    "        #test_model(model, test_loader[task], criterion)\n",
    "    if not os.path.exists('/app/src/output'):\n",
    "        os.makedirs('/app/src/output')\n",
    "    torch.save(model.state_dict(), f'/app/src/output/model_task_{task}.pth')\n",
    "\n",
    "def test_model(model, test_loader, criterion, context= 0):\n",
    "    model.eval()\n",
    "    running_loss = 0.0\n",
    "    running_acc = 0.0\n",
    "    with torch.no_grad():\n",
    "        for i, (inputs, labels) in enumerate(test_loader):\n",
    "            inputs, labels = inputs.to('cuda'), labels.to('cuda')\n",
    "            outputs = model(inputs)\n",
    "            loss = criterion(outputs, labels)\n",
    "            running_loss += loss.item()\n",
    "            acc = (outputs.argmax(dim=1) == labels).float().mean()\n",
    "            running_acc += acc.item()\n",
    "    #print(f\"Test Loss: {running_loss/len(test_loader):.4f}\")\n",
    "    print(f\"Test Accuracy of context {context} is: {running_acc/len(test_loader):.4f}\")"
   ]
  },
  {
   "cell_type": "markdown",
   "metadata": {},
   "source": [
    "##### Train on first context\n",
    "\n",
    "- Let's the train the model on the first context \n"
   ]
  },
  {
   "cell_type": "code",
   "execution_count": 49,
   "metadata": {},
   "outputs": [
    {
     "name": "stdout",
     "output_type": "stream",
     "text": [
      "Epoch [1/2], Accuracy: 0.9309\n",
      "Epoch [2/2], Accuracy: 0.9643\n"
     ]
    }
   ],
   "source": [
    "model.to('cuda')\n",
    "loader = torch.utils.data.DataLoader(train_datasets[0], batch_size=128, shuffle=True)\n",
    "train_model(model, loader, optimizer, loss, task= 0,ewc= False, num_epochs=2)\n",
    "#model.calculate_fisher_info(train_dataset[0], fisher_labels='all', fisher_n=None, allowed_classes=None)\n",
    "    "
   ]
  },
  {
   "cell_type": "markdown",
   "metadata": {},
   "source": [
    "1. Evaluate the model on both the contexts and report the accuracy. \n",
    "- you should see a performance degradation on the second task which is normal as it hasnot been trained on it"
   ]
  },
  {
   "cell_type": "code",
   "execution_count": 50,
   "metadata": {},
   "outputs": [
    {
     "name": "stdout",
     "output_type": "stream",
     "text": [
      "Test Accuracy of context 0 is: 0.9658\n",
      "Test Accuracy of context 1 is: 0.0922\n"
     ]
    }
   ],
   "source": [
    "contexts = 2\n",
    "for i in range(contexts):\n",
    "    test_loader = torch.utils.data.DataLoader(test_datasets[i], batch_size=128, shuffle=False)\n",
    "\n",
    "    test_model(model, test_loader, loss , context= i)"
   ]
  },
  {
   "cell_type": "markdown",
   "metadata": {},
   "source": [
    "##### Train on context 2"
   ]
  },
  {
   "cell_type": "markdown",
   "metadata": {},
   "source": [
    "- Now train on the context 2 and evaluate the model on both the contexts. You should observe a performance degradation on the context 1. Signalling Catastrophic Forgetting !!!"
   ]
  },
  {
   "cell_type": "code",
   "execution_count": 67,
   "metadata": {},
   "outputs": [
    {
     "name": "stderr",
     "output_type": "stream",
     "text": [
      "/tmp/ipykernel_4655/1301658764.py:1: FutureWarning: You are using `torch.load` with `weights_only=False` (the current default value), which uses the default pickle module implicitly. It is possible to construct malicious pickle data which will execute arbitrary code during unpickling (See https://github.com/pytorch/pytorch/blob/main/SECURITY.md#untrusted-models for more details). In a future release, the default value for `weights_only` will be flipped to `True`. This limits the functions that could be executed during unpickling. Arbitrary objects will no longer be allowed to be loaded via this mode unless they are explicitly allowlisted by the user via `torch.serialization.add_safe_globals`. We recommend you start setting `weights_only=True` for any use case where you don't have full control of the loaded file. Please open an issue on GitHub for any issues related to this experimental feature.\n",
      "  model.load_state_dict(torch.load('/app/src/output/model_task_0.pth'))\n"
     ]
    },
    {
     "name": "stdout",
     "output_type": "stream",
     "text": [
      "Epoch [1/2], Accuracy: 0.9220\n",
      "Epoch [2/2], Accuracy: 0.9625\n"
     ]
    }
   ],
   "source": [
    "model.load_state_dict(torch.load('/app/src/output/model_task_0.pth'))\n",
    "optimizer = optim.Adam(model.parameters(), lr=0.01)\n",
    "loader = torch.utils.data.DataLoader(train_datasets[1], batch_size=128, shuffle=True)\n",
    "train_model(model, loader, optimizer, loss, task= 1,ewc= False, num_epochs=2)"
   ]
  },
  {
   "cell_type": "code",
   "execution_count": 68,
   "metadata": {},
   "outputs": [
    {
     "name": "stdout",
     "output_type": "stream",
     "text": [
      "Test Accuracy of context 0 is: 0.6615\n",
      "Test Accuracy of context 1 is: 0.9636\n"
     ]
    }
   ],
   "source": [
    "contexts = 2\n",
    "for i in range(contexts):\n",
    "    test_loader = torch.utils.data.DataLoader(test_datasets[i], batch_size=128, shuffle=False)\n",
    "\n",
    "    test_model(model, test_loader, loss , context= i)"
   ]
  },
  {
   "cell_type": "markdown",
   "metadata": {},
   "source": [
    "#### EWC: Sequentially train the model with EWC\n",
    "\n",
    "- Now Train the model on the first task and save it. \n",
    "- Calculate the Fischer matrix using the model from the first context \n",
    "- Now train the train the model on the context 2 using EWC loss. \n"
   ]
  },
  {
   "cell_type": "code",
   "execution_count": 60,
   "metadata": {},
   "outputs": [],
   "source": [
    "model_ = Net()\n",
    "model_.load_state_dict(torch.load('/app/src/output/model_task_0.pth'))\n",
    "dict_ = torch.load('/app/src/output/model_task_0.pth')"
   ]
  },
  {
   "cell_type": "markdown",
   "metadata": {},
   "source": [
    "Now Evaluate the model on two contexts"
   ]
  },
  {
   "cell_type": "code",
   "execution_count": 32,
   "metadata": {},
   "outputs": [],
   "source": []
  },
  {
   "cell_type": "markdown",
   "metadata": {},
   "source": [
    "#### Knowledge Distillation\n",
    "\n",
    "For KD, we need a teacher model which we will use it to infer knowledge from. \n",
    "- So first, perform a joint training and save it a teacher model"
   ]
  },
  {
   "cell_type": "code",
   "execution_count": 172,
   "metadata": {},
   "outputs": [],
   "source": []
  },
  {
   "cell_type": "code",
   "execution_count": 159,
   "metadata": {},
   "outputs": [],
   "source": [
    "torch.save(model.state_dict(), '/app/src/output/model_teacher.pth')"
   ]
  },
  {
   "cell_type": "markdown",
   "metadata": {},
   "source": [
    "##### Define your training loop with KD loss\n",
    "\n"
   ]
  },
  {
   "cell_type": "code",
   "execution_count": null,
   "metadata": {},
   "outputs": [],
   "source": [
    "def train(model, criterion, train_loader, task, num_epochs=1, kd=False):\n",
    "    model.train()\n",
    "    #loader_ = train_loader[0]\n",
    "    for epoch in range(num_epochs):\n",
    "        running_loss = 0.0\n",
    "        running_acc = 0.0\n",
    "        loader_ = iter(train_loader)\n",
    "        for i, (inputs, labels) in enumerate(train_loader[task]):\n",
    "            inputs, labels = inputs.to('cuda'), labels.to('cuda')\n",
    "            optimizer.zero_grad()\n",
    "            outputs = model(inputs)\n",
    "            loss = criterion(outputs, labels)\n",
    "            if kd == True:\n",
    "                with torch.no_grad():\n",
    "                    \n",
    "                    \"\"\" TODO \"\"\"\n",
    "\n",
    "                    \n",
    "                loss += kd_loss\n",
    "            loss.backward()\n",
    "            optimizer.step()\n",
    "            running_loss += loss.item()\n",
    "            acc = (outputs.argmax(dim=1) == labels).float().mean()\n",
    "            running_acc += acc.item()\n",
    "        \n",
    "        print(f\"Epoch [{epoch+1}/{num_epochs}], Accuracy: {running_acc/len(train_loader):.4f}\")\n",
    "\n",
    "        test_model(model, test_loader[task], criterion)\n",
    "    #if not os.path.exists('/app/src/output'):\n",
    "    #    os.makedirs('/app/src/output')\n",
    "    #torch.save(model.state_dict(), f'/app/src/output/model_task_{task}.pth')\n",
    "\n",
    "def test_model(model, test_loader, criterion):\n",
    "    model.eval()\n",
    "    running_loss = 0.0\n",
    "    running_acc = 0.0\n",
    "    with torch.no_grad():\n",
    "        for i, (inputs, labels) in enumerate(test_loader):\n",
    "            inputs, labels = inputs.to('cuda'), labels.to('cuda')\n",
    "            outputs = model(inputs)\n",
    "            loss = criterion(outputs, labels)\n",
    "            running_loss += loss.item()\n",
    "            acc = (outputs.argmax(dim=1) == labels).float().mean()\n",
    "            running_acc += acc.item()\n",
    "    #print(f\"Test Loss: {running_loss/len(test_loader):.4f}\")\n",
    "    print(f\"Test Accuracy: {running_acc/len(test_loader):.4f}\")\n"
   ]
  },
  {
   "cell_type": "markdown",
   "metadata": {},
   "source": [
    "### Train and Evaluate your model on two contexts. "
   ]
  },
  {
   "cell_type": "code",
   "execution_count": 175,
   "metadata": {},
   "outputs": [],
   "source": [
    "\n"
   ]
  }
 ],
 "metadata": {
  "kernelspec": {
   "display_name": ".venv",
   "language": "python",
   "name": "python3"
  },
  "language_info": {
   "codemirror_mode": {
    "name": "ipython",
    "version": 3
   },
   "file_extension": ".py",
   "mimetype": "text/x-python",
   "name": "python",
   "nbconvert_exporter": "python",
   "pygments_lexer": "ipython3",
   "version": "3.10.11"
  }
 },
 "nbformat": 4,
 "nbformat_minor": 2
}
